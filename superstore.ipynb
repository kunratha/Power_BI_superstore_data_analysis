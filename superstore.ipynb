{
 "cells": [
  {
   "cell_type": "code",
   "execution_count": 9,
   "metadata": {},
   "outputs": [
    {
     "data": {
      "text/html": [
       "<div>\n",
       "<style scoped>\n",
       "    .dataframe tbody tr th:only-of-type {\n",
       "        vertical-align: middle;\n",
       "    }\n",
       "\n",
       "    .dataframe tbody tr th {\n",
       "        vertical-align: top;\n",
       "    }\n",
       "\n",
       "    .dataframe thead th {\n",
       "        text-align: right;\n",
       "    }\n",
       "</style>\n",
       "<table border=\"1\" class=\"dataframe\">\n",
       "  <thead>\n",
       "    <tr style=\"text-align: right;\">\n",
       "      <th></th>\n",
       "      <th>Order.ID</th>\n",
       "      <th>Order.Date</th>\n",
       "      <th>Ship.Date</th>\n",
       "      <th>Customer.ID</th>\n",
       "      <th>Customer.Name</th>\n",
       "      <th>City</th>\n",
       "      <th>State</th>\n",
       "      <th>Country</th>\n",
       "      <th>Region</th>\n",
       "      <th>Market</th>\n",
       "      <th>...</th>\n",
       "      <th>Category</th>\n",
       "      <th>Sub.Category</th>\n",
       "      <th>Quantity</th>\n",
       "      <th>Discount</th>\n",
       "      <th>Order.Priority</th>\n",
       "      <th>Ship.Mode</th>\n",
       "      <th>Shipping.Cost</th>\n",
       "      <th>Year</th>\n",
       "      <th>weeknum</th>\n",
       "      <th>Price</th>\n",
       "    </tr>\n",
       "  </thead>\n",
       "  <tbody>\n",
       "    <tr>\n",
       "      <th>0</th>\n",
       "      <td>CA-2011-130813</td>\n",
       "      <td>2011-01-07</td>\n",
       "      <td>2011-01-09</td>\n",
       "      <td>LS-172304</td>\n",
       "      <td>Lycoris Saunders</td>\n",
       "      <td>Los Angeles</td>\n",
       "      <td>California</td>\n",
       "      <td>United States</td>\n",
       "      <td>West</td>\n",
       "      <td>US</td>\n",
       "      <td>...</td>\n",
       "      <td>Office Supplies</td>\n",
       "      <td>Paper</td>\n",
       "      <td>3</td>\n",
       "      <td>0.0</td>\n",
       "      <td>High</td>\n",
       "      <td>Second Class</td>\n",
       "      <td>4.37</td>\n",
       "      <td>2011</td>\n",
       "      <td>2</td>\n",
       "      <td>2.68</td>\n",
       "    </tr>\n",
       "    <tr>\n",
       "      <th>1</th>\n",
       "      <td>CA-2011-148614</td>\n",
       "      <td>2011-01-21</td>\n",
       "      <td>2011-01-26</td>\n",
       "      <td>MV-174854</td>\n",
       "      <td>Mark Van Huff</td>\n",
       "      <td>Los Angeles</td>\n",
       "      <td>California</td>\n",
       "      <td>United States</td>\n",
       "      <td>West</td>\n",
       "      <td>US</td>\n",
       "      <td>...</td>\n",
       "      <td>Office Supplies</td>\n",
       "      <td>Paper</td>\n",
       "      <td>2</td>\n",
       "      <td>0.0</td>\n",
       "      <td>Medium</td>\n",
       "      <td>Standard Class</td>\n",
       "      <td>0.94</td>\n",
       "      <td>2011</td>\n",
       "      <td>4</td>\n",
       "      <td>4.65</td>\n",
       "    </tr>\n",
       "    <tr>\n",
       "      <th>2</th>\n",
       "      <td>CA-2011-118962</td>\n",
       "      <td>2011-08-05</td>\n",
       "      <td>2011-08-09</td>\n",
       "      <td>CS-121304</td>\n",
       "      <td>Chad Sievert</td>\n",
       "      <td>Los Angeles</td>\n",
       "      <td>California</td>\n",
       "      <td>United States</td>\n",
       "      <td>West</td>\n",
       "      <td>US</td>\n",
       "      <td>...</td>\n",
       "      <td>Office Supplies</td>\n",
       "      <td>Paper</td>\n",
       "      <td>3</td>\n",
       "      <td>0.0</td>\n",
       "      <td>Medium</td>\n",
       "      <td>Standard Class</td>\n",
       "      <td>1.81</td>\n",
       "      <td>2011</td>\n",
       "      <td>32</td>\n",
       "      <td>2.82</td>\n",
       "    </tr>\n",
       "    <tr>\n",
       "      <th>3</th>\n",
       "      <td>CA-2011-118962</td>\n",
       "      <td>2011-08-05</td>\n",
       "      <td>2011-08-09</td>\n",
       "      <td>CS-121304</td>\n",
       "      <td>Chad Sievert</td>\n",
       "      <td>Los Angeles</td>\n",
       "      <td>California</td>\n",
       "      <td>United States</td>\n",
       "      <td>West</td>\n",
       "      <td>US</td>\n",
       "      <td>...</td>\n",
       "      <td>Office Supplies</td>\n",
       "      <td>Paper</td>\n",
       "      <td>2</td>\n",
       "      <td>0.0</td>\n",
       "      <td>Medium</td>\n",
       "      <td>Standard Class</td>\n",
       "      <td>4.59</td>\n",
       "      <td>2011</td>\n",
       "      <td>32</td>\n",
       "      <td>24.41</td>\n",
       "    </tr>\n",
       "    <tr>\n",
       "      <th>4</th>\n",
       "      <td>CA-2011-146969</td>\n",
       "      <td>2011-09-29</td>\n",
       "      <td>2011-10-03</td>\n",
       "      <td>AP-109154</td>\n",
       "      <td>Arthur Prichep</td>\n",
       "      <td>Los Angeles</td>\n",
       "      <td>California</td>\n",
       "      <td>United States</td>\n",
       "      <td>West</td>\n",
       "      <td>US</td>\n",
       "      <td>...</td>\n",
       "      <td>Office Supplies</td>\n",
       "      <td>Paper</td>\n",
       "      <td>1</td>\n",
       "      <td>0.0</td>\n",
       "      <td>High</td>\n",
       "      <td>Standard Class</td>\n",
       "      <td>1.32</td>\n",
       "      <td>2011</td>\n",
       "      <td>40</td>\n",
       "      <td>3.11</td>\n",
       "    </tr>\n",
       "  </tbody>\n",
       "</table>\n",
       "<p>5 rows × 24 columns</p>\n",
       "</div>"
      ],
      "text/plain": [
       "         Order.ID  Order.Date   Ship.Date Customer.ID     Customer.Name  \\\n",
       "0  CA-2011-130813  2011-01-07  2011-01-09   LS-172304  Lycoris Saunders   \n",
       "1  CA-2011-148614  2011-01-21  2011-01-26   MV-174854     Mark Van Huff   \n",
       "2  CA-2011-118962  2011-08-05  2011-08-09   CS-121304      Chad Sievert   \n",
       "3  CA-2011-118962  2011-08-05  2011-08-09   CS-121304      Chad Sievert   \n",
       "4  CA-2011-146969  2011-09-29  2011-10-03   AP-109154    Arthur Prichep   \n",
       "\n",
       "          City       State        Country Region Market  ...         Category  \\\n",
       "0  Los Angeles  California  United States   West     US  ...  Office Supplies   \n",
       "1  Los Angeles  California  United States   West     US  ...  Office Supplies   \n",
       "2  Los Angeles  California  United States   West     US  ...  Office Supplies   \n",
       "3  Los Angeles  California  United States   West     US  ...  Office Supplies   \n",
       "4  Los Angeles  California  United States   West     US  ...  Office Supplies   \n",
       "\n",
       "  Sub.Category Quantity Discount Order.Priority       Ship.Mode  \\\n",
       "0        Paper        3      0.0           High    Second Class   \n",
       "1        Paper        2      0.0         Medium  Standard Class   \n",
       "2        Paper        3      0.0         Medium  Standard Class   \n",
       "3        Paper        2      0.0         Medium  Standard Class   \n",
       "4        Paper        1      0.0           High  Standard Class   \n",
       "\n",
       "   Shipping.Cost  Year weeknum  Price  \n",
       "0           4.37  2011       2   2.68  \n",
       "1           0.94  2011       4   4.65  \n",
       "2           1.81  2011      32   2.82  \n",
       "3           4.59  2011      32  24.41  \n",
       "4           1.32  2011      40   3.11  \n",
       "\n",
       "[5 rows x 24 columns]"
      ]
     },
     "execution_count": 9,
     "metadata": {},
     "output_type": "execute_result"
    }
   ],
   "source": [
    "import pandas as pd\n",
    "\n",
    "data = pd.read_csv('superstore.csv')\n",
    "data.head()"
   ]
  },
  {
   "cell_type": "code",
   "execution_count": 10,
   "metadata": {},
   "outputs": [
    {
     "data": {
      "text/plain": [
       "(38078, 24)"
      ]
     },
     "execution_count": 10,
     "metadata": {},
     "output_type": "execute_result"
    }
   ],
   "source": [
    "data.shape"
   ]
  },
  {
   "cell_type": "code",
   "execution_count": 11,
   "metadata": {},
   "outputs": [
    {
     "data": {
      "text/html": [
       "<div>\n",
       "<style scoped>\n",
       "    .dataframe tbody tr th:only-of-type {\n",
       "        vertical-align: middle;\n",
       "    }\n",
       "\n",
       "    .dataframe tbody tr th {\n",
       "        vertical-align: top;\n",
       "    }\n",
       "\n",
       "    .dataframe thead th {\n",
       "        text-align: right;\n",
       "    }\n",
       "</style>\n",
       "<table border=\"1\" class=\"dataframe\">\n",
       "  <thead>\n",
       "    <tr style=\"text-align: right;\">\n",
       "      <th></th>\n",
       "      <th>Quantity</th>\n",
       "      <th>Discount</th>\n",
       "      <th>Shipping.Cost</th>\n",
       "      <th>Year</th>\n",
       "      <th>weeknum</th>\n",
       "      <th>Price</th>\n",
       "    </tr>\n",
       "  </thead>\n",
       "  <tbody>\n",
       "    <tr>\n",
       "      <th>count</th>\n",
       "      <td>38078.000000</td>\n",
       "      <td>38078.000000</td>\n",
       "      <td>38078.000000</td>\n",
       "      <td>38078.000000</td>\n",
       "      <td>38078.000000</td>\n",
       "      <td>38078.000000</td>\n",
       "    </tr>\n",
       "    <tr>\n",
       "      <th>mean</th>\n",
       "      <td>3.493014</td>\n",
       "      <td>0.043320</td>\n",
       "      <td>28.097896</td>\n",
       "      <td>2012.777877</td>\n",
       "      <td>31.301303</td>\n",
       "      <td>18.400317</td>\n",
       "    </tr>\n",
       "    <tr>\n",
       "      <th>std</th>\n",
       "      <td>2.277996</td>\n",
       "      <td>0.087042</td>\n",
       "      <td>60.249248</td>\n",
       "      <td>1.097731</td>\n",
       "      <td>14.395998</td>\n",
       "      <td>33.665955</td>\n",
       "    </tr>\n",
       "    <tr>\n",
       "      <th>min</th>\n",
       "      <td>1.000000</td>\n",
       "      <td>0.000000</td>\n",
       "      <td>0.002000</td>\n",
       "      <td>2011.000000</td>\n",
       "      <td>1.000000</td>\n",
       "      <td>0.030000</td>\n",
       "    </tr>\n",
       "    <tr>\n",
       "      <th>25%</th>\n",
       "      <td>2.000000</td>\n",
       "      <td>0.000000</td>\n",
       "      <td>2.925000</td>\n",
       "      <td>2012.000000</td>\n",
       "      <td>20.000000</td>\n",
       "      <td>3.110000</td>\n",
       "    </tr>\n",
       "    <tr>\n",
       "      <th>50%</th>\n",
       "      <td>3.000000</td>\n",
       "      <td>0.000000</td>\n",
       "      <td>8.417000</td>\n",
       "      <td>2013.000000</td>\n",
       "      <td>33.000000</td>\n",
       "      <td>7.665000</td>\n",
       "    </tr>\n",
       "    <tr>\n",
       "      <th>75%</th>\n",
       "      <td>5.000000</td>\n",
       "      <td>0.002000</td>\n",
       "      <td>25.970000</td>\n",
       "      <td>2014.000000</td>\n",
       "      <td>44.000000</td>\n",
       "      <td>19.340000</td>\n",
       "    </tr>\n",
       "    <tr>\n",
       "      <th>max</th>\n",
       "      <td>14.000000</td>\n",
       "      <td>0.470000</td>\n",
       "      <td>933.570000</td>\n",
       "      <td>2014.000000</td>\n",
       "      <td>53.000000</td>\n",
       "      <td>1260.000000</td>\n",
       "    </tr>\n",
       "  </tbody>\n",
       "</table>\n",
       "</div>"
      ],
      "text/plain": [
       "           Quantity      Discount  Shipping.Cost          Year       weeknum  \\\n",
       "count  38078.000000  38078.000000   38078.000000  38078.000000  38078.000000   \n",
       "mean       3.493014      0.043320      28.097896   2012.777877     31.301303   \n",
       "std        2.277996      0.087042      60.249248      1.097731     14.395998   \n",
       "min        1.000000      0.000000       0.002000   2011.000000      1.000000   \n",
       "25%        2.000000      0.000000       2.925000   2012.000000     20.000000   \n",
       "50%        3.000000      0.000000       8.417000   2013.000000     33.000000   \n",
       "75%        5.000000      0.002000      25.970000   2014.000000     44.000000   \n",
       "max       14.000000      0.470000     933.570000   2014.000000     53.000000   \n",
       "\n",
       "              Price  \n",
       "count  38078.000000  \n",
       "mean      18.400317  \n",
       "std       33.665955  \n",
       "min        0.030000  \n",
       "25%        3.110000  \n",
       "50%        7.665000  \n",
       "75%       19.340000  \n",
       "max     1260.000000  "
      ]
     },
     "execution_count": 11,
     "metadata": {},
     "output_type": "execute_result"
    }
   ],
   "source": [
    "data.describe()"
   ]
  },
  {
   "cell_type": "code",
   "execution_count": 12,
   "metadata": {},
   "outputs": [
    {
     "name": "stdout",
     "output_type": "stream",
     "text": [
      "<class 'pandas.core.frame.DataFrame'>\n",
      "RangeIndex: 38078 entries, 0 to 38077\n",
      "Data columns (total 24 columns):\n",
      " #   Column          Non-Null Count  Dtype  \n",
      "---  ------          --------------  -----  \n",
      " 0   Order.ID        38078 non-null  object \n",
      " 1   Order.Date      38078 non-null  object \n",
      " 2   Ship.Date       38078 non-null  object \n",
      " 3   Customer.ID     38078 non-null  object \n",
      " 4   Customer.Name   38078 non-null  object \n",
      " 5   City            38078 non-null  object \n",
      " 6   State           38078 non-null  object \n",
      " 7   Country         38078 non-null  object \n",
      " 8   Region          38078 non-null  object \n",
      " 9   Market          38078 non-null  object \n",
      " 10  Market2         38078 non-null  object \n",
      " 11  Segment         38078 non-null  object \n",
      " 12  Product.ID      38078 non-null  object \n",
      " 13  Product.Name    38078 non-null  object \n",
      " 14  Category        38078 non-null  object \n",
      " 15  Sub.Category    38078 non-null  object \n",
      " 16  Quantity        38078 non-null  int64  \n",
      " 17  Discount        38078 non-null  float64\n",
      " 18  Order.Priority  38078 non-null  object \n",
      " 19  Ship.Mode       38078 non-null  object \n",
      " 20  Shipping.Cost   38078 non-null  float64\n",
      " 21  Year            38078 non-null  int64  \n",
      " 22  weeknum         38078 non-null  int64  \n",
      " 23  Price           38078 non-null  float64\n",
      "dtypes: float64(3), int64(3), object(18)\n",
      "memory usage: 7.0+ MB\n"
     ]
    }
   ],
   "source": [
    "data.info()"
   ]
  },
  {
   "cell_type": "code",
   "execution_count": 13,
   "metadata": {},
   "outputs": [
    {
     "data": {
      "text/plain": [
       "Order.ID          0\n",
       "Order.Date        0\n",
       "Ship.Date         0\n",
       "Customer.ID       0\n",
       "Customer.Name     0\n",
       "City              0\n",
       "State             0\n",
       "Country           0\n",
       "Region            0\n",
       "Market            0\n",
       "Market2           0\n",
       "Segment           0\n",
       "Product.ID        0\n",
       "Product.Name      0\n",
       "Category          0\n",
       "Sub.Category      0\n",
       "Quantity          0\n",
       "Discount          0\n",
       "Order.Priority    0\n",
       "Ship.Mode         0\n",
       "Shipping.Cost     0\n",
       "Year              0\n",
       "weeknum           0\n",
       "Price             0\n",
       "dtype: int64"
      ]
     },
     "execution_count": 13,
     "metadata": {},
     "output_type": "execute_result"
    }
   ],
   "source": [
    "data.isna().sum()"
   ]
  },
  {
   "cell_type": "code",
   "execution_count": 14,
   "metadata": {},
   "outputs": [
    {
     "data": {
      "text/plain": [
       "0"
      ]
     },
     "execution_count": 14,
     "metadata": {},
     "output_type": "execute_result"
    }
   ],
   "source": [
    "data.duplicated().sum()"
   ]
  },
  {
   "cell_type": "code",
   "execution_count": 17,
   "metadata": {},
   "outputs": [
    {
     "data": {
      "text/plain": [
       "Index(['Order.ID', 'Order.Date', 'Ship.Date', 'Customer.ID', 'Customer.Name',\n",
       "       'City', 'State', 'Country', 'Region', 'Market', 'Market2', 'Segment',\n",
       "       'Product.ID', 'Product.Name', 'Category', 'Sub.Category', 'Quantity',\n",
       "       'Discount', 'Order.Priority', 'Ship.Mode', 'Shipping.Cost', 'Year',\n",
       "       'weeknum', 'Price'],\n",
       "      dtype='object')"
      ]
     },
     "execution_count": 17,
     "metadata": {},
     "output_type": "execute_result"
    }
   ],
   "source": [
    "data.columns"
   ]
  },
  {
   "cell_type": "code",
   "execution_count": 18,
   "metadata": {},
   "outputs": [
    {
     "data": {
      "text/plain": [
       "'2015-01-07'"
      ]
     },
     "execution_count": 18,
     "metadata": {},
     "output_type": "execute_result"
    }
   ],
   "source": [
    "data['Ship.Date'].max()"
   ]
  },
  {
   "cell_type": "code",
   "execution_count": 19,
   "metadata": {},
   "outputs": [
    {
     "data": {
      "text/plain": [
       "'2011-01-03'"
      ]
     },
     "execution_count": 19,
     "metadata": {},
     "output_type": "execute_result"
    }
   ],
   "source": [
    "data['Ship.Date'].min()"
   ]
  },
  {
   "cell_type": "code",
   "execution_count": 20,
   "metadata": {},
   "outputs": [
    {
     "data": {
      "text/plain": [
       "38078"
      ]
     },
     "execution_count": 20,
     "metadata": {},
     "output_type": "execute_result"
    }
   ],
   "source": [
    "data['Ship.Date'].value_counts().sum()"
   ]
  },
  {
   "cell_type": "code",
   "execution_count": 21,
   "metadata": {},
   "outputs": [
    {
     "data": {
      "text/plain": [
       "38078"
      ]
     },
     "execution_count": 21,
     "metadata": {},
     "output_type": "execute_result"
    }
   ],
   "source": [
    "data['Order.Date'].value_counts().sum()"
   ]
  },
  {
   "cell_type": "code",
   "execution_count": 32,
   "metadata": {},
   "outputs": [],
   "source": [
    "data['Ship.Date'] = pd.to_datetime(data['Ship.Date'])"
   ]
  },
  {
   "cell_type": "code",
   "execution_count": 46,
   "metadata": {},
   "outputs": [
    {
     "data": {
      "text/plain": [
       "Timestamp('2015-01-01 00:00:00')"
      ]
     },
     "execution_count": 46,
     "metadata": {},
     "output_type": "execute_result"
    }
   ],
   "source": [
    "# Filter the DataFrame for all days in January 2015\n",
    "filtered_data = data[(data['Ship.Date'].dt.year == 2015) & (data['Ship.Date'].dt.month == 1)]\n",
    "filtered_data['Ship.Date'].min()"
   ]
  },
  {
   "cell_type": "code",
   "execution_count": 47,
   "metadata": {},
   "outputs": [
    {
     "data": {
      "text/plain": [
       "0       2011-01-09\n",
       "1       2011-01-26\n",
       "2       2011-08-09\n",
       "3       2011-08-09\n",
       "4       2011-10-03\n",
       "           ...    \n",
       "38073   2014-12-04\n",
       "38074   2014-12-04\n",
       "38075   2014-12-21\n",
       "38076   2014-12-26\n",
       "38077   2014-12-30\n",
       "Name: Ship.Date, Length: 38078, dtype: datetime64[ns]"
      ]
     },
     "execution_count": 47,
     "metadata": {},
     "output_type": "execute_result"
    }
   ],
   "source": [
    "data['Ship.Date']"
   ]
  },
  {
   "cell_type": "code",
   "execution_count": 49,
   "metadata": {},
   "outputs": [
    {
     "name": "stdout",
     "output_type": "stream",
     "text": [
      "<class 'pandas.core.frame.DataFrame'>\n",
      "RangeIndex: 38078 entries, 0 to 38077\n",
      "Data columns (total 24 columns):\n",
      " #   Column          Non-Null Count  Dtype         \n",
      "---  ------          --------------  -----         \n",
      " 0   Order.ID        38078 non-null  object        \n",
      " 1   Order.Date      38078 non-null  object        \n",
      " 2   Ship.Date       38078 non-null  datetime64[ns]\n",
      " 3   Customer.ID     38078 non-null  object        \n",
      " 4   Customer.Name   38078 non-null  object        \n",
      " 5   City            38078 non-null  object        \n",
      " 6   State           38078 non-null  object        \n",
      " 7   Country         38078 non-null  object        \n",
      " 8   Region          38078 non-null  object        \n",
      " 9   Market          38078 non-null  object        \n",
      " 10  Market2         38078 non-null  object        \n",
      " 11  Segment         38078 non-null  object        \n",
      " 12  Product.ID      38078 non-null  object        \n",
      " 13  Product.Name    38078 non-null  object        \n",
      " 14  Category        38078 non-null  object        \n",
      " 15  Sub.Category    38078 non-null  object        \n",
      " 16  Quantity        38078 non-null  int64         \n",
      " 17  Discount        38078 non-null  float64       \n",
      " 18  Order.Priority  38078 non-null  object        \n",
      " 19  Ship.Mode       38078 non-null  object        \n",
      " 20  Shipping.Cost   38078 non-null  float64       \n",
      " 21  Year            38078 non-null  int64         \n",
      " 22  weeknum         38078 non-null  int64         \n",
      " 23  Price           38078 non-null  float64       \n",
      "dtypes: datetime64[ns](1), float64(3), int64(3), object(17)\n",
      "memory usage: 7.0+ MB\n"
     ]
    }
   ],
   "source": [
    "data.info()"
   ]
  },
  {
   "cell_type": "code",
   "execution_count": 52,
   "metadata": {},
   "outputs": [],
   "source": [
    "# Convert 'Order.Date' to datetime format\n",
    "data['Order.Date'] = pd.to_datetime(data['Order.Date'], format='%Y-%m-%d')"
   ]
  },
  {
   "cell_type": "code",
   "execution_count": 53,
   "metadata": {},
   "outputs": [
    {
     "name": "stdout",
     "output_type": "stream",
     "text": [
      "<class 'pandas.core.frame.DataFrame'>\n",
      "RangeIndex: 38078 entries, 0 to 38077\n",
      "Data columns (total 24 columns):\n",
      " #   Column          Non-Null Count  Dtype         \n",
      "---  ------          --------------  -----         \n",
      " 0   Order.ID        38078 non-null  object        \n",
      " 1   Order.Date      38078 non-null  datetime64[ns]\n",
      " 2   Ship.Date       38078 non-null  datetime64[ns]\n",
      " 3   Customer.ID     38078 non-null  object        \n",
      " 4   Customer.Name   38078 non-null  object        \n",
      " 5   City            38078 non-null  object        \n",
      " 6   State           38078 non-null  object        \n",
      " 7   Country         38078 non-null  object        \n",
      " 8   Region          38078 non-null  object        \n",
      " 9   Market          38078 non-null  object        \n",
      " 10  Market2         38078 non-null  object        \n",
      " 11  Segment         38078 non-null  object        \n",
      " 12  Product.ID      38078 non-null  object        \n",
      " 13  Product.Name    38078 non-null  object        \n",
      " 14  Category        38078 non-null  object        \n",
      " 15  Sub.Category    38078 non-null  object        \n",
      " 16  Quantity        38078 non-null  int64         \n",
      " 17  Discount        38078 non-null  float64       \n",
      " 18  Order.Priority  38078 non-null  object        \n",
      " 19  Ship.Mode       38078 non-null  object        \n",
      " 20  Shipping.Cost   38078 non-null  float64       \n",
      " 21  Year            38078 non-null  int64         \n",
      " 22  weeknum         38078 non-null  int64         \n",
      " 23  Price           38078 non-null  float64       \n",
      "dtypes: datetime64[ns](2), float64(3), int64(3), object(16)\n",
      "memory usage: 7.0+ MB\n"
     ]
    }
   ],
   "source": [
    "data.info()"
   ]
  },
  {
   "cell_type": "code",
   "execution_count": 54,
   "metadata": {},
   "outputs": [
    {
     "data": {
      "text/plain": [
       "0        0.0\n",
       "1        0.0\n",
       "2        0.0\n",
       "3        0.0\n",
       "4        0.0\n",
       "        ... \n",
       "38073    0.2\n",
       "38074    0.2\n",
       "38075    0.2\n",
       "38076    0.2\n",
       "38077    0.2\n",
       "Name: Discount, Length: 38078, dtype: float64"
      ]
     },
     "execution_count": 54,
     "metadata": {},
     "output_type": "execute_result"
    }
   ],
   "source": [
    "data['Discount']"
   ]
  },
  {
   "cell_type": "code",
   "execution_count": 57,
   "metadata": {},
   "outputs": [
    {
     "data": {
      "text/plain": [
       "array(['North America', 'EU', 'LATAM', 'Africa', 'APAC', 'EMEA'],\n",
       "      dtype=object)"
      ]
     },
     "execution_count": 57,
     "metadata": {},
     "output_type": "execute_result"
    }
   ],
   "source": [
    "data['Market2'].unique()"
   ]
  },
  {
   "cell_type": "code",
   "execution_count": 58,
   "metadata": {},
   "outputs": [
    {
     "data": {
      "text/plain": [
       "array(['US', 'EU', 'LATAM', 'Africa', 'APAC', 'EMEA', 'Canada'],\n",
       "      dtype=object)"
      ]
     },
     "execution_count": 58,
     "metadata": {},
     "output_type": "execute_result"
    }
   ],
   "source": [
    "data['Market'].unique()"
   ]
  }
 ],
 "metadata": {
  "kernelspec": {
   "display_name": "Python 3",
   "language": "python",
   "name": "python3"
  },
  "language_info": {
   "codemirror_mode": {
    "name": "ipython",
    "version": 3
   },
   "file_extension": ".py",
   "mimetype": "text/x-python",
   "name": "python",
   "nbconvert_exporter": "python",
   "pygments_lexer": "ipython3",
   "version": "3.11.2"
  }
 },
 "nbformat": 4,
 "nbformat_minor": 2
}
